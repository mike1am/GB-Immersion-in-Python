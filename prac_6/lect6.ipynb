{
 "cells": [
  {
   "cell_type": "code",
   "execution_count": 3,
   "metadata": {},
   "outputs": [
    {
     "data": {
      "text/plain": [
       "['d:\\\\mike\\\\Documents\\\\work files\\\\GB\\\\III\\\\1 Погружение в Python\\\\practice\\\\pract6',\n",
       " 'c:\\\\Program Files\\\\Python311\\\\python311.zip',\n",
       " 'c:\\\\Program Files\\\\Python311\\\\DLLs',\n",
       " 'c:\\\\Program Files\\\\Python311\\\\Lib',\n",
       " 'c:\\\\Program Files\\\\Python311',\n",
       " '',\n",
       " 'C:\\\\Users\\\\mike\\\\AppData\\\\Roaming\\\\Python\\\\Python311\\\\site-packages',\n",
       " 'c:\\\\Program Files\\\\Python311\\\\Lib\\\\site-packages',\n",
       " 'c:\\\\Program Files\\\\Python311\\\\Lib\\\\site-packages\\\\win32',\n",
       " 'c:\\\\Program Files\\\\Python311\\\\Lib\\\\site-packages\\\\win32\\\\lib',\n",
       " 'c:\\\\Program Files\\\\Python311\\\\Lib\\\\site-packages\\\\Pythonwin']"
      ]
     },
     "execution_count": 3,
     "metadata": {},
     "output_type": "execute_result"
    }
   ],
   "source": [
    "import sys\n",
    "sys.path"
   ]
  }
 ],
 "metadata": {
  "kernelspec": {
   "display_name": "Python 3",
   "language": "python",
   "name": "python3"
  },
  "language_info": {
   "codemirror_mode": {
    "name": "ipython",
    "version": 3
   },
   "file_extension": ".py",
   "mimetype": "text/x-python",
   "name": "python",
   "nbconvert_exporter": "python",
   "pygments_lexer": "ipython3",
   "version": "3.11.6"
  }
 },
 "nbformat": 4,
 "nbformat_minor": 2
}
