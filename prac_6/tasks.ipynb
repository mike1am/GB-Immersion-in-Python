{
 "cells": [
  {
   "cell_type": "markdown",
   "metadata": {},
   "source": [
    "## 2.\n",
    "```\n",
    "Создайте модуль с функцией внутри.\n",
    "Функция принимает на вход три целых числа:\n",
    "нижнюю и верхнюю границу и количество попыток.\n",
    "Внутри генерируется случайное число в указанных\n",
    "границах и пользователь должен угадать\n",
    "его за заданное число попыток.\n",
    "Функция выводит подсказки “больше” и “меньше”.\n",
    "Если число угадано, возвращается истина, а если попытки исчерпаны - ложь.\n",
    "```"
   ]
  },
  {
   "cell_type": "code",
   "execution_count": 5,
   "metadata": {},
   "outputs": [
    {
     "name": "stdout",
     "output_type": "stream",
     "text": [
      "Угадайте число от 0 до 50\n",
      "\u001b[31mМеньше, чем 30\u001b[0m\n",
      "\u001b[31mМеньше, чем 20\u001b[0m\n",
      "\u001b[33mУра, Вы угадали!\u001b[0m\n"
     ]
    },
    {
     "data": {
      "text/plain": [
       "True"
      ]
     },
     "execution_count": 5,
     "metadata": {},
     "output_type": "execute_result"
    }
   ],
   "source": [
    "import task2\n",
    "task2.guessNum(0, 50, 5)"
   ]
  },
  {
   "cell_type": "markdown",
   "metadata": {},
   "source": [
    "## 4.\n",
    "```\n",
    "📌 Создайте модуль с функцией внутри.\n",
    "📌 Функция получает на вход загадку, список с возможными\n",
    "вариантами отгадок и количество попыток на угадывание.\n",
    "📌 Программа возвращает номер попытки, с которой была\n",
    "отгадана загадка или ноль, если попытки исчерпаны.\n",
    "\n",
    "```"
   ]
  },
  {
   "cell_type": "code",
   "execution_count": 1,
   "metadata": {},
   "outputs": [
    {
     "name": "stdout",
     "output_type": "stream",
     "text": [
      "Отгадайте загадку:\n",
      "Висит груша - нельзя скушать\n"
     ]
    },
    {
     "name": "stdout",
     "output_type": "stream",
     "text": [
      "\u001b[33mУра, Вы угадали!\u001b[0m\n"
     ]
    },
    {
     "data": {
      "text/plain": [
       "1"
      ]
     },
     "execution_count": 1,
     "metadata": {},
     "output_type": "execute_result"
    }
   ],
   "source": [
    "import task8\n",
    "task8.guess('Висит груша - нельзя скушать', [\"лампочка\", \"лампа\"])\n"
   ]
  },
  {
   "cell_type": "markdown",
   "metadata": {},
   "source": [
    "## 5.\n",
    "```\n",
    "📌 Добавьте в модуль с загадками функцию, которая хранит\n",
    "словарь списков.\n",
    "📌 Ключ словаря - загадка, значение - список с отгадками.\n",
    "📌 Функция в цикле вызывает загадывающую функцию, чтобы\n",
    "передать ей все свои загадки.\n",
    "```"
   ]
  },
  {
   "cell_type": "code",
   "execution_count": 3,
   "metadata": {},
   "outputs": [
    {
     "name": "stdout",
     "output_type": "stream",
     "text": [
      "Отгадайте загадку:\n",
      "Висит груша - нельзя скушать\n",
      "Ответ неверен.\n",
      "Ответ неверен.\n",
      "\u001b[33mУра, Вы угадали!\u001b[0m\n",
      "Отгадайте загадку:\n",
      "Зимой и летом - одним цветом\n",
      "Ответ неверен.\n",
      "Ответ неверен.\n",
      "Ответ неверен.\n",
      "Вам не хватило попыток((. Ответ был: елка\n",
      "Отгадайте загадку:\n",
      "Делать нужно по утрам,\n",
      "Она бодрость дарит нам\n",
      "Ответ неверен.\n",
      "Ответ неверен.\n",
      "\u001b[33mУра, Вы угадали!\u001b[0m\n",
      "Отгадайте загадку:\n",
      "Он красив и ярко-красен,\n",
      "Но он жгуч, горяч, опасен\n",
      "\u001b[33mУра, Вы угадали!\u001b[0m\n"
     ]
    }
   ],
   "source": [
    "import task8\n",
    "\n",
    "task8.allRiddles()"
   ]
  },
  {
   "cell_type": "markdown",
   "metadata": {},
   "source": [
    "## 6.\n",
    "```\n",
    "📌 Добавьте в модуль с загадками функцию, которая\n",
    "принимает на вход строку (текст загадки) и число (номер\n",
    "попытки, с которой она угадана).\n",
    "📌 Функция формирует словарь с информацией о результатах\n",
    "отгадывания.\n",
    "📌 Для хранения используйте защищённый словарь уровня\n",
    "модуля.\n",
    "📌 Отдельно напишите функцию, которая выводит результаты\n",
    "угадывания из защищённого словаря в удобном для чтения\n",
    "виде.\n",
    "📌 Для формирования результатов используйте генераторное\n",
    "выражение.\n",
    "```"
   ]
  },
  {
   "cell_type": "code",
   "execution_count": 1,
   "metadata": {},
   "outputs": [
    {
     "ename": "ModuleNotFoundError",
     "evalue": "No module named 'task4'",
     "output_type": "error",
     "traceback": [
      "\u001b[1;31m---------------------------------------------------------------------------\u001b[0m",
      "\u001b[1;31mModuleNotFoundError\u001b[0m                       Traceback (most recent call last)",
      "\u001b[1;32md:\\mike\\Documents\\work files\\GB\\III\\1 Погружение в Python\\practice\\pract6\\tasks.ipynb Cell 8\u001b[0m line \u001b[0;36m5\n\u001b[0;32m      <a href='vscode-notebook-cell:/d%3A/mike/Documents/work%20files/GB/III/1%20%D0%9F%D0%BE%D0%B3%D1%80%D1%83%D0%B6%D0%B5%D0%BD%D0%B8%D0%B5%20%D0%B2%20Python/practice/pract6/tasks.ipynb#X10sZmlsZQ%3D%3D?line=0'>1</a>\u001b[0m \u001b[39m# import task5\u001b[39;00m\n\u001b[0;32m      <a href='vscode-notebook-cell:/d%3A/mike/Documents/work%20files/GB/III/1%20%D0%9F%D0%BE%D0%B3%D1%80%D1%83%D0%B6%D0%B5%D0%BD%D0%B8%D0%B5%20%D0%B2%20Python/practice/pract6/tasks.ipynb#X10sZmlsZQ%3D%3D?line=1'>2</a>\u001b[0m \u001b[39m# import task6\u001b[39;00m\n\u001b[0;32m      <a href='vscode-notebook-cell:/d%3A/mike/Documents/work%20files/GB/III/1%20%D0%9F%D0%BE%D0%B3%D1%80%D1%83%D0%B6%D0%B5%D0%BD%D0%B8%D0%B5%20%D0%B2%20Python/practice/pract6/tasks.ipynb#X10sZmlsZQ%3D%3D?line=2'>3</a>\u001b[0m \n\u001b[0;32m      <a href='vscode-notebook-cell:/d%3A/mike/Documents/work%20files/GB/III/1%20%D0%9F%D0%BE%D0%B3%D1%80%D1%83%D0%B6%D0%B5%D0%BD%D0%B8%D0%B5%20%D0%B2%20Python/practice/pract6/tasks.ipynb#X10sZmlsZQ%3D%3D?line=3'>4</a>\u001b[0m \u001b[39m# from task8 import *\u001b[39;00m\n\u001b[1;32m----> <a href='vscode-notebook-cell:/d%3A/mike/Documents/work%20files/GB/III/1%20%D0%9F%D0%BE%D0%B3%D1%80%D1%83%D0%B6%D0%B5%D0%BD%D0%B8%D0%B5%20%D0%B2%20Python/practice/pract6/tasks.ipynb#X10sZmlsZQ%3D%3D?line=4'>5</a>\u001b[0m \u001b[39mimport\u001b[39;00m \u001b[39mtask8\u001b[39;00m\n\u001b[0;32m      <a href='vscode-notebook-cell:/d%3A/mike/Documents/work%20files/GB/III/1%20%D0%9F%D0%BE%D0%B3%D1%80%D1%83%D0%B6%D0%B5%D0%BD%D0%B8%D0%B5%20%D0%B2%20Python/practice/pract6/tasks.ipynb#X10sZmlsZQ%3D%3D?line=6'>7</a>\u001b[0m task8\u001b[39m.\u001b[39mallRiddles(task8\u001b[39m.\u001b[39mRIDDLES)\n\u001b[0;32m      <a href='vscode-notebook-cell:/d%3A/mike/Documents/work%20files/GB/III/1%20%D0%9F%D0%BE%D0%B3%D1%80%D1%83%D0%B6%D0%B5%D0%BD%D0%B8%D0%B5%20%D0%B2%20Python/practice/pract6/tasks.ipynb#X10sZmlsZQ%3D%3D?line=8'>9</a>\u001b[0m task8\u001b[39m.\u001b[39mprintStat()\n",
      "File \u001b[1;32md:\\mike\\Documents\\work files\\GB\\III\\1 Погружение в Python\\practice\\pract6\\task8\\__init__.py:2\u001b[0m\n\u001b[0;32m      1\u001b[0m \u001b[39mfrom\u001b[39;00m \u001b[39m.\u001b[39;00m\u001b[39mtask4\u001b[39;00m \u001b[39mimport\u001b[39;00m guess\n\u001b[1;32m----> 2\u001b[0m \u001b[39mfrom\u001b[39;00m \u001b[39m.\u001b[39;00m\u001b[39mtask5\u001b[39;00m \u001b[39mimport\u001b[39;00m \u001b[39m*\u001b[39m\n\u001b[0;32m      3\u001b[0m \u001b[39mfrom\u001b[39;00m \u001b[39m.\u001b[39;00m\u001b[39mtask6\u001b[39;00m \u001b[39mimport\u001b[39;00m \u001b[39m*\u001b[39m\n\u001b[0;32m      5\u001b[0m __all__ \u001b[39m=\u001b[39m [\n\u001b[0;32m      6\u001b[0m     \u001b[39m\"\u001b[39m\u001b[39mallRiddles\u001b[39m\u001b[39m\"\u001b[39m,\n\u001b[0;32m      7\u001b[0m     \u001b[39m\"\u001b[39m\u001b[39mRIDDLES\u001b[39m\u001b[39m\"\u001b[39m,\n\u001b[0;32m      8\u001b[0m     \u001b[39m# \"printStat\",\u001b[39;00m\n\u001b[0;32m      9\u001b[0m ]\n",
      "File \u001b[1;32md:\\mike\\Documents\\work files\\GB\\III\\1 Погружение в Python\\practice\\pract6\\task8\\task5.py:7\u001b[0m\n\u001b[0;32m      1\u001b[0m \u001b[39m# if __name__ == \"__main__\":\u001b[39;00m\n\u001b[0;32m      2\u001b[0m \u001b[39m#     import task4\u001b[39;00m\n\u001b[0;32m      3\u001b[0m \u001b[39m#     import task6\u001b[39;00m\n\u001b[0;32m      4\u001b[0m \u001b[39m# else:\u001b[39;00m\n\u001b[0;32m      5\u001b[0m \u001b[39m#     from . import task4\u001b[39;00m\n\u001b[0;32m      6\u001b[0m \u001b[39m#     from . import task6\u001b[39;00m\n\u001b[1;32m----> 7\u001b[0m \u001b[39mfrom\u001b[39;00m \u001b[39mtask4\u001b[39;00m \u001b[39mimport\u001b[39;00m guess\n\u001b[0;32m      8\u001b[0m \u001b[39mfrom\u001b[39;00m \u001b[39mtask6\u001b[39;00m \u001b[39mimport\u001b[39;00m setStat, printStat\n\u001b[0;32m     11\u001b[0m __all__ \u001b[39m=\u001b[39m [\n\u001b[0;32m     12\u001b[0m     \u001b[39m\"\u001b[39m\u001b[39mallRiddles\u001b[39m\u001b[39m\"\u001b[39m,\n\u001b[0;32m     13\u001b[0m     \u001b[39m\"\u001b[39m\u001b[39mRIDDLES\u001b[39m\u001b[39m\"\u001b[39m,\n\u001b[0;32m     14\u001b[0m ]\n",
      "\u001b[1;31mModuleNotFoundError\u001b[0m: No module named 'task4'"
     ]
    }
   ],
   "source": [
    "# import task5\n",
    "# import task6\n",
    "\n",
    "# from task8 import *\n",
    "import task8\n",
    "\n",
    "task8.allRiddles(task8.RIDDLES)\n",
    "\n",
    "task8.printStat()\n"
   ]
  }
 ],
 "metadata": {
  "kernelspec": {
   "display_name": "Python 3",
   "language": "python",
   "name": "python3"
  },
  "language_info": {
   "codemirror_mode": {
    "name": "ipython",
    "version": 3
   },
   "file_extension": ".py",
   "mimetype": "text/x-python",
   "name": "python",
   "nbconvert_exporter": "python",
   "pygments_lexer": "ipython3",
   "version": "3.11.6"
  }
 },
 "nbformat": 4,
 "nbformat_minor": 2
}
