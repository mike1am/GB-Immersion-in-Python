{
 "cells": [
  {
   "cell_type": "code",
   "execution_count": 2,
   "metadata": {},
   "outputs": [],
   "source": [
    "from functools import reduce\n",
    "from collections import deque"
   ]
  },
  {
   "cell_type": "markdown",
   "metadata": {},
   "source": [
    "## Задание №1\n",
    "```\n",
    "📌 Создайте класс-функцию, который считает факториал числа при вызове экземпляра.\n",
    "📌 Экземпляр должен запоминать последние k значений.\n",
    "📌 Параметр k передаётся при создании экземпляра.\n",
    "📌 Добавьте метод для просмотра ранее вызываемых значений и их факториалов.\n",
    "```"
   ]
  },
  {
   "cell_type": "code",
   "execution_count": 3,
   "metadata": {},
   "outputs": [],
   "source": [
    "class Fact:\n",
    "    def __init__(self, *, k):\n",
    "        self.buf = deque(maxlen=k)\n",
    "\n",
    "    def __call__(self, n):\n",
    "        res = reduce(lambda f, i: f * i, range(2, n + 1), 1)\n",
    "        self.buf.append(res)\n",
    "        return res\n",
    "\n",
    "    def __str__(self):\n",
    "        return \", \".join(map(str, self.buf))"
   ]
  },
  {
   "cell_type": "code",
   "execution_count": 4,
   "metadata": {},
   "outputs": [
    {
     "name": "stdout",
     "output_type": "stream",
     "text": [
      "f(4) = 24\n",
      "f(2) = 2\n",
      "f(1) = 1\n",
      "f(5) = 120\n",
      "f(7) = 5040\n",
      "1, 120, 5040\n"
     ]
    }
   ],
   "source": [
    "f = Fact(k=3)\n",
    "\n",
    "print(f\"{f(4) = }\")\n",
    "print(f\"{f(2) = }\")\n",
    "print(f\"{f(1) = }\")\n",
    "print(f\"{f(5) = }\")\n",
    "print(f\"{f(7) = }\")\n",
    "print(f)"
   ]
  },
  {
   "cell_type": "code",
   "execution_count": null,
   "metadata": {},
   "outputs": [],
   "source": [
    "class Faktorial:\n",
    "    storage = []\n",
    "    def __init__(self, k):\n",
    "        self.k = k\n",
    "\n",
    "    def __str__(self):\n",
    "        return '\\n'.join(f'{i[0]}! = {i[1]}' for i in self.storage)\n",
    "\n",
    "    def __call__(self, value):\n",
    "        faktorial = 1\n",
    "        for i in range(value):\n",
    "            faktorial *= i+1\n",
    "        if len(self.storage) == self.k:\n",
    "            self.storage.pop(0)\n",
    "        self.storage.append((value, faktorial))\n",
    "        return faktorial"
   ]
  },
  {
   "cell_type": "markdown",
   "metadata": {},
   "source": [
    "## Задание №2\n",
    "```\n",
    "📌 Доработаем задачу 1.\n",
    "📌 Создайте менеджер контекста, который при выходе сохраняет значения в JSON файл.\n",
    "```"
   ]
  },
  {
   "cell_type": "code",
   "execution_count": 5,
   "metadata": {},
   "outputs": [],
   "source": [
    "import json\n",
    "\n",
    "class FactJson(Fact):\n",
    "    def __init__(self, fName, *, k):\n",
    "        super().__init__(k=k)\n",
    "        self.fName = fName\n",
    "\n",
    "    def __enter__(self):\n",
    "        return self\n",
    "\n",
    "    def __exit__(self, *args):\n",
    "        with open(self.fName, \"w\") as jsonFile:\n",
    "            json.dump(list(self.buf), jsonFile)"
   ]
  },
  {
   "cell_type": "code",
   "execution_count": 6,
   "metadata": {},
   "outputs": [
    {
     "name": "stdout",
     "output_type": "stream",
     "text": [
      "f(3) = 6\n",
      "f(2) = 2\n",
      "f(5) = 120\n",
      "f(4) = 24\n",
      "f(1) = 1\n"
     ]
    }
   ],
   "source": [
    "with FactJson(\"task4.json\", k=3) as f:\n",
    "    print(f\"{f(3) = }\")\n",
    "    print(f\"{f(2) = }\")\n",
    "    print(f\"{f(5) = }\")\n",
    "    print(f\"{f(4) = }\")\n",
    "    print(f\"{f(1) = }\")"
   ]
  },
  {
   "cell_type": "markdown",
   "metadata": {},
   "source": [
    "## Задание №3\n",
    "```\n",
    "📌 Создайте класс-генератор.\n",
    "📌 Экземпляр класса должен генерировать факториал числа в диапазоне от start до stop с шагом step.\n",
    "📌 Если переданы два параметра, считаем step=1.\n",
    "📌 Если передан один параметр, также считаем start=1.\n",
    "```"
   ]
  },
  {
   "cell_type": "code",
   "execution_count": 22,
   "metadata": {},
   "outputs": [],
   "source": [
    "class FactGen(Fact):\n",
    "    def __init__(self, start, stop = None, step = 1, *, k):\n",
    "        super().__init__(k=k)\n",
    "        if stop:\n",
    "            self.start = start\n",
    "            self.stop = stop\n",
    "        else:\n",
    "            self.start = 1\n",
    "            self.stop = start\n",
    "        self.step = step\n",
    "\n",
    "    def __iter__(self):\n",
    "        self.i = self.start\n",
    "        return self\n",
    "    \n",
    "    def __next__(self):\n",
    "        if self.i < self.stop:\n",
    "            res = self.__call__(self.i)\n",
    "            self.i += self.step\n",
    "            return res\n",
    "        raise StopIteration"
   ]
  },
  {
   "cell_type": "markdown",
   "metadata": {},
   "source": [
    "Возврат по yield:"
   ]
  },
  {
   "cell_type": "code",
   "execution_count": 26,
   "metadata": {},
   "outputs": [],
   "source": [
    "class FactGen(Fact):\n",
    "    def __init__(self, start, stop = None, step = 1, *, k):\n",
    "        super().__init__(k=k)\n",
    "        if stop:\n",
    "            self.start = start\n",
    "            self.stop = stop\n",
    "        else:\n",
    "            self.start = 1\n",
    "            self.stop = start\n",
    "        self.step = step\n",
    "\n",
    "    def __iter__(self):\n",
    "        return self.__next__()\n",
    "    \n",
    "    def __next__(self):\n",
    "        for i in range(self.start, self.stop, self.step):\n",
    "            yield self.__call__(i)\n",
    "        self.start = self.stop # для исключения повторных итераций"
   ]
  },
  {
   "cell_type": "markdown",
   "metadata": {},
   "source": [
    "упрощённо:"
   ]
  },
  {
   "cell_type": "code",
   "execution_count": 9,
   "metadata": {},
   "outputs": [],
   "source": [
    "class FactGen(Fact):\n",
    "    def __init__(self, start, stop = None, step = 1, *, k):\n",
    "        super().__init__(k=k)\n",
    "        if stop:\n",
    "            self.start = start\n",
    "            self.stop = stop\n",
    "        else:\n",
    "            self.start = 1\n",
    "            self.stop = start\n",
    "        self.step = step\n",
    "\n",
    "    def __iter__(self):\n",
    "        for i in range(self.start, self.stop, self.step):\n",
    "            yield self.__call__(i)\n",
    "        self.start = self.stop # для исключения повторных итераций"
   ]
  },
  {
   "cell_type": "code",
   "execution_count": 27,
   "metadata": {},
   "outputs": [
    {
     "name": "stdout",
     "output_type": "stream",
     "text": [
      "1\n",
      "2\n",
      "6\n",
      "24\n",
      "2, 6, 24\n"
     ]
    }
   ],
   "source": [
    "g = FactGen(1, 5, k=3)\n",
    "for f in g:\n",
    "    print(f)\n",
    "\n",
    "for f in g:\n",
    "    print(f)\n",
    "\n",
    "print(g)"
   ]
  },
  {
   "cell_type": "code",
   "execution_count": null,
   "metadata": {},
   "outputs": [],
   "source": [
    "class Faktorial:\n",
    "\n",
    "    def __init__(self, *args):\n",
    "        self.step = 1\n",
    "        self.start = 1\n",
    "        self.stop = args[0]\n",
    "        if len(args) > 1:\n",
    "            self.start = args[0]\n",
    "            self.stop = args[1]\n",
    "            if len(args) > 2:\n",
    "                self.step = args[2]\n",
    "        self.faktorial = 1\n",
    "        self.num = 0\n",
    "\n",
    "    def __iter__(self):\n",
    "        return self\n",
    "\n",
    "    def __next__(self):\n",
    "        while self.num < self.stop:\n",
    "            self.num += 1\n",
    "            self.faktorial *= self.num\n",
    "            if self.start <= self.num < self.stop and (self.num - self.start) % self.step == 0:\n",
    "                return self.faktorial\n",
    "        raise StopIteration\n",
    "\n",
    "\n",
    "f = Faktorial(2, 7, 2)\n",
    "for num in f:\n",
    "    print(num)"
   ]
  },
  {
   "cell_type": "markdown",
   "metadata": {},
   "source": [
    "## Задание №4\n",
    "```\n",
    "📌 Доработайте класс прямоугольник из прошлых семинаров.\n",
    "📌 Добавьте возможность изменять длину и ширину прямоугольника и встройте контроль недопустимых значений (отрицательных).\n",
    "📌 Используйте декораторы свойств.\n",
    "```"
   ]
  },
  {
   "cell_type": "code",
   "execution_count": 1,
   "metadata": {},
   "outputs": [],
   "source": [
    "class Rectangle:\n",
    "    def __init__(self, width: int, height: int=None) -> None:\n",
    "        self._dimX = width\n",
    "        self._dimY = height if height else width\n",
    "    \n",
    "    @property\n",
    "    def width(self):\n",
    "        return self._dimX\n",
    "\n",
    "    @property\n",
    "    def height(self):\n",
    "        return self._dimY\n",
    "    \n",
    "    def perimeter(self) -> int:\n",
    "        return (self._dimX + self._dimY) * 2\n",
    "    \n",
    "    def area(self) -> int:\n",
    "        return self._dimX * self._dimY\n",
    "    \n",
    "    def __add__(self, other):\n",
    "        return self.__class__(self._dimX + other._dimX, self._dimY + other._dimY)\n",
    "    \n",
    "    def __sub__(self, other):\n",
    "        return self.__class__(abs(self._dimX - other._dimX), abs(self._dimY - other._dimY))\n",
    "    \n",
    "    def __lt__(self, other) -> bool:\n",
    "        return self.area() < other.area()\n",
    "    \n",
    "    def __eq__(self, other) -> bool:\n",
    "        return self.area() == other.area()\n",
    "    \n",
    "    def __le__(self, other) -> bool:\n",
    "        return self.area() <= other.area()\n",
    "    \n",
    "    def __str__(self) -> str:\n",
    "        return f\"Прямоугольник со сторонами {self._dimX} и {self._dimY}\"\n",
    "    \n",
    "    def __repr__(self) -> str:\n",
    "        return f\"{self.__class__.__name__}({self._dimX}, {self._dimY})\""
   ]
  },
  {
   "cell_type": "code",
   "execution_count": 7,
   "metadata": {},
   "outputs": [],
   "source": [
    "class RectangleMod(Rectangle):\n",
    "    __slots__ = ('_dimX', '_dimY')\n",
    "    \n",
    "    @property\n",
    "    def width(self):\n",
    "        return self._dimX\n",
    "\n",
    "    @property\n",
    "    def height(self):\n",
    "        return self._dimY\n",
    "    \n",
    "    @width.setter\n",
    "    def width(self, value):\n",
    "        if not isinstance(value, int) or value <= 0:\n",
    "            raise ValueError(\"Некорректное значение ширины\")\n",
    "        self._dimX = value\n",
    "    \n",
    "    @height.setter\n",
    "    def height(self, value):\n",
    "        if not isinstance(value, int) or value <= 0:\n",
    "            raise ValueError(\"Некорректное значение высоты\")\n",
    "        self._dimY = value"
   ]
  },
  {
   "cell_type": "code",
   "execution_count": 8,
   "metadata": {},
   "outputs": [
    {
     "name": "stdout",
     "output_type": "stream",
     "text": [
      "Прямоугольник со сторонами 25 и 30\n"
     ]
    },
    {
     "data": {
      "text/plain": [
       "{'Z': 10}"
      ]
     },
     "execution_count": 8,
     "metadata": {},
     "output_type": "execute_result"
    }
   ],
   "source": [
    "rect = RectangleMod(20, 30)\n",
    "\n",
    "rect.Z = 10\n",
    "rect.width = 25\n",
    "print(rect)\n",
    "rect.__dict__"
   ]
  },
  {
   "cell_type": "markdown",
   "metadata": {},
   "source": [
    "## Задание №5\n",
    "```\n",
    "📌 Доработаем прямоугольник и добавим экономию памяти для хранения свойств экземпляра без словаря __dict__.\n",
    "```"
   ]
  },
  {
   "cell_type": "markdown",
   "metadata": {},
   "source": [
    "## Задание №6\n",
    "```\n",
    "📌 Изменяем класс прямоугольника.\n",
    "📌 Заменяем пару декораторов проверяющих длину и ширину на дескриптор с валидацией размера.\n",
    "```"
   ]
  },
  {
   "cell_type": "code",
   "execution_count": 4,
   "metadata": {},
   "outputs": [],
   "source": [
    "class Dim:\n",
    "    def __set_name__(self, owner, name):\n",
    "        self.attrName = owner.ATTR_NAMES.get(name, (\"_\" + name,))[0]\n",
    "        self.desc = owner.ATTR_NAMES.get(name, (None, name))[1]\n",
    "    \n",
    "    def __get__(self, instance, owner):\n",
    "        return getattr(instance, self.attrName)\n",
    "    \n",
    "    def __set__(self, instance, value):\n",
    "        if not isinstance(value, int) or value <= 0:\n",
    "            raise ValueError(f\"Некорректное значение размера: {self.desc}\")\n",
    "        setattr(instance, self.attrName, value)"
   ]
  },
  {
   "cell_type": "code",
   "execution_count": 22,
   "metadata": {},
   "outputs": [],
   "source": [
    "class RectangleMod1(Rectangle):\n",
    "    ATTR_NAMES = {\n",
    "        'width': ('_dimX', \"ширина\"),\n",
    "        'height': ('_dimY', \"высота\"),\n",
    "    }\n",
    "    \n",
    "    __slots__ = ('_dimX', '_dimY')\n",
    "    width = Dim()\n",
    "    height = Dim()\n",
    "\n",
    "    def __init__(self, width: int, height: int=None) -> None:\n",
    "        self.width = width\n",
    "        self.height = height if height else width"
   ]
  },
  {
   "cell_type": "code",
   "execution_count": 33,
   "metadata": {},
   "outputs": [
    {
     "name": "stdout",
     "output_type": "stream",
     "text": [
      "30\n",
      "RectangleMod1(25, 37)\n"
     ]
    }
   ],
   "source": [
    "rect1 = RectangleMod1(20, 30)\n",
    "rect2 = RectangleMod1(3, 7)\n",
    "\n",
    "rect3 = rect1 + rect2\n",
    "rect3.width = 25\n",
    "print(rect1.height)\n",
    "print(repr(rect3))"
   ]
  },
  {
   "cell_type": "code",
   "execution_count": null,
   "metadata": {},
   "outputs": [],
   "source": [
    "def check_for_zero(x, y):\n",
    "    while x <= 0:\n",
    "        if y > 1:\n",
    "            y -= 1\n",
    "            x += 1\n",
    "        else:\n",
    "            y /= 2\n",
    "            x = y\n",
    "    return x, y\n",
    "\n",
    "class Range:\n",
    "    def __init__(self, min_value: int = None, max_value: int = None):\n",
    "        self.min_value = min_value\n",
    "        self.max_value = max_value\n",
    "\n",
    "    def __set_name__(self, owner, name):\n",
    "        self.param_name = '_' + name\n",
    "\n",
    "    def __get__(self, instance, owner):\n",
    "        return getattr(instance, self.param_name)\n",
    "\n",
    "    def __set__(self, instance, value):\n",
    "        self.validate(value)\n",
    "        setattr(instance, self.param_name, value)\n",
    "\n",
    "    def __delete__(self, instance):\n",
    "        raise AttributeError(f'Свойство \"{self.param_name}\" нельзя удалять')\n",
    "\n",
    "    def validate(self, value):\n",
    "        if not isinstance(value, int):\n",
    "            raise TypeError(f'Значение {value} должно быть целым числом')\n",
    "        if self.min_value is not None and value < self.min_value:\n",
    "            raise ValueError(f'Значение {value} должно быть больше или равно {self.min_value}')\n",
    "        if self.max_value is not None and value >= self.max_value:\n",
    "            raise ValueError(f'Значение {value} должно быть меньше {self.max_value}')\n",
    "\n",
    "\n",
    "class Rectangle:\n",
    "    '''Класс Прямоугольник.\n",
    "    Два свойства - длина и ширина.\n",
    "    Методы вычисления периметра и площади, сложения, вычитания, сравнения и вывода в консоль'''\n",
    "    __slots__ = ('_width', '_height')\n",
    "\n",
    "    width = Range(1)\n",
    "    height = Range(1)\n",
    "    def __init__(self, width, height=None):\n",
    "        self.width = width\n",
    "        if height == None:\n",
    "            self.height = self.width\n",
    "        else:\n",
    "            self.height = height\n",
    "        # if self.width <= 0 or self.height <= 0:\n",
    "        #     raise ValueError('Длины сторон должны быть больше нуля')\n",
    "\n",
    "    def perimeter(self):\n",
    "        '''Метод вычисления периметра параллелограмма'''\n",
    "        return 2*(self.height+self.width)\n",
    "\n",
    "    def area(self):\n",
    "        '''Метод вычисления площади прямоугольника'''\n",
    "        return self.height*self.width\n",
    "\n",
    "    def __add__(self, other):\n",
    "        '''Сложение параллелограммов путём сложения их периметров'''\n",
    "        height = self.height + other.height\n",
    "        width = self.width + other.width\n",
    "        return Rectangle(width, height)\n",
    "\n",
    "    def __sub__(self, other):\n",
    "        '''Вычитание параллелограммов путём вычитания их периметров\n",
    "           с исключением отрицательных значений'''\n",
    "        width = abs(self.width - other.width)\n",
    "        perimeter = abs(self.perimeter() - other.perimeter())\n",
    "        if perimeter == 0:\n",
    "            width, height = 0, 0\n",
    "        else:\n",
    "            height = perimeter // 2 - width\n",
    "            width, height = check_for_zero(width, height)\n",
    "            height, width = check_for_zero(height, width)\n",
    "        return Rectangle(width, height)\n",
    "\n",
    "    def __eq__(self, other):\n",
    "        '''Сравнение фигур путём сравнения их площадей'''\n",
    "        return self.area() == other.area()\n",
    "\n",
    "    def __gt__(self, other):\n",
    "        '''Сравнение фигур путём сравнения их площадей'''\n",
    "        return self.area() > other.area()\n",
    "\n",
    "    def __lt__(self, other):\n",
    "        '''Сравнение фигур путём сравнения их площадей'''\n",
    "        return self.area() < other.area()\n",
    "\n",
    "    def __ne__(self, other):\n",
    "        '''Сравнение фигур путём сравнения их площадей'''\n",
    "        return self.area() != other.area()\n",
    "\n",
    "    def __ge__(self, other):\n",
    "        '''Сравнение фигур путём сравнения их площадей'''\n",
    "        return self.area() >= other.area()\n",
    "\n",
    "    def __le__(self, other):\n",
    "        '''Сравнение фигур путём сравнения их площадей'''\n",
    "        return self.area() <= other.area()\n",
    "\n",
    "    def __str__(self):\n",
    "        '''Магический метод.\n",
    "        Возвращает строку, описывающую ширину и высоту прямоугольника в виде:\n",
    "        Прямоугольник со сторонами 2 и 3,\n",
    "        где первое число - это ширина, а второе - высота.\n",
    "        '''\n",
    "        return f'Прямоугольник со сторонами {self.width} и {self.height}'\n",
    "\n",
    "    def __repr__(self):\n",
    "        return f'Rectangle({self.width}, {self.height})'"
   ]
  }
 ],
 "metadata": {
  "kernelspec": {
   "display_name": "Python 3",
   "language": "python",
   "name": "python3"
  },
  "language_info": {
   "codemirror_mode": {
    "name": "ipython",
    "version": 3
   },
   "file_extension": ".py",
   "mimetype": "text/x-python",
   "name": "python",
   "nbconvert_exporter": "python",
   "pygments_lexer": "ipython3",
   "version": "3.11.6"
  }
 },
 "nbformat": 4,
 "nbformat_minor": 2
}
