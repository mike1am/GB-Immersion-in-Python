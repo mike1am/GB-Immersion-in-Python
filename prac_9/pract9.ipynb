{
 "cells": [
  {
   "cell_type": "code",
   "execution_count": 75,
   "metadata": {},
   "outputs": [],
   "source": [
    "import random\n",
    "import os\n",
    "import json\n",
    "from functools import wraps"
   ]
  },
  {
   "cell_type": "markdown",
   "metadata": {},
   "source": [
    "## Задание №1\n",
    "```\n",
    "📌Создайте функцию-замыкание, которая запрашивает два целых числа:\n",
    "    ○ от 1 до 100 для загадывания,\n",
    "    ○ от 1 до 10 для количества попыток\n",
    "📌Функция возвращает функцию, которая через консоль просит угадать загаданное число за указанное число попыток.  \n",
    "```"
   ]
  },
  {
   "cell_type": "code",
   "execution_count": 53,
   "metadata": {},
   "outputs": [],
   "source": [
    "import sys\n",
    "sys.path.insert(0, r\"..\\prac_6\")\n",
    "import task2"
   ]
  },
  {
   "cell_type": "code",
   "execution_count": 54,
   "metadata": {},
   "outputs": [],
   "source": [
    "def initGuess(upperLimit, attLimit):\n",
    "    def inner():\n",
    "        return task2.guessNum(1, upperLimit, attLimit)\n",
    "\n",
    "    return inner"
   ]
  },
  {
   "cell_type": "code",
   "execution_count": 55,
   "metadata": {},
   "outputs": [
    {
     "name": "stdout",
     "output_type": "stream",
     "text": [
      "Угадайте число от 1 до 100\n",
      "\u001b[31mБольше, чем 50\u001b[0m\n",
      "\u001b[31mБольше, чем 30\u001b[0m\n",
      "\u001b[31mМеньше, чем 75\u001b[0m\n",
      "\u001b[31mМеньше, чем 63\u001b[0m\n",
      "\u001b[31mМеньше, чем 58\u001b[0m\n",
      "\u001b[31mБольше, чем 54\u001b[0m\n",
      "\u001b[31mБольше, чем 56\u001b[0m\n",
      "\u001b[33m<< 57 >>  Ура, Вы угадали!\u001b[0m\n"
     ]
    },
    {
     "data": {
      "text/plain": [
       "True"
      ]
     },
     "execution_count": 55,
     "metadata": {},
     "output_type": "execute_result"
    }
   ],
   "source": [
    "guessFunc = initGuess(100, 10)\n",
    "guessFunc()"
   ]
  },
  {
   "cell_type": "markdown",
   "metadata": {},
   "source": [
    "## Задание №2\n",
    "```\n",
    "📌Дорабатываем задачу 1.\n",
    "📌Превратите внешнюю функцию в декоратор.\n",
    "📌Он должен проверять входят ли переданные в функцию-угадайку числа в диапазоны [1, 100] и [1, 10].\n",
    "📌Если не входят, вызывать функцию со случайными числами из диапазонов.\n",
    "```"
   ]
  },
  {
   "cell_type": "code",
   "execution_count": 86,
   "metadata": {},
   "outputs": [],
   "source": [
    "def checkParams(func):\n",
    "    @wraps(func)\n",
    "    def wrapper(*args):\n",
    "        if args[0] < 1 or args[0] > 100 or args[1] < 0 or args[1] > 10:\n",
    "            return func(random.randint(1, 100), random.randint(1, 10))\n",
    "        return func(*args)\n",
    "\n",
    "    return wrapper"
   ]
  },
  {
   "cell_type": "code",
   "execution_count": 61,
   "metadata": {},
   "outputs": [
    {
     "name": "stdout",
     "output_type": "stream",
     "text": [
      "Угадайте число от 1 до 10\n"
     ]
    },
    {
     "name": "stdout",
     "output_type": "stream",
     "text": [
      "\u001b[33m<< 5 >>  Ура, Вы угадали!\u001b[0m\n"
     ]
    },
    {
     "data": {
      "text/plain": [
       "True"
      ]
     },
     "execution_count": 61,
     "metadata": {},
     "output_type": "execute_result"
    }
   ],
   "source": [
    "@checkParams\n",
    "def guessFunc(upperLimit, attLimit):\n",
    "    return task2.guessNum(1, upperLimit, attLimit)\n",
    "\n",
    "guessFunc(10, 3)"
   ]
  },
  {
   "cell_type": "markdown",
   "metadata": {},
   "source": [
    "## Задание №3\n",
    "```\n",
    "📌Напишите декоратор, который сохраняет в json файл параметры декорируемой функции и результат, который она возвращает. При повторном вызове файл должен расширяться, а не перезаписываться.\n",
    "📌Каждый ключевой параметр сохраните как отдельный ключ json словаря.\n",
    "📌Для декорирования напишите функцию, которая может принимать как позиционные, так и ключевые аргументы.\n",
    "📌Имя файла должно совпадать с именем декорируемой функции.\n",
    "```"
   ]
  },
  {
   "cell_type": "code",
   "execution_count": 65,
   "metadata": {},
   "outputs": [],
   "source": [
    "import inspect\n",
    "\n",
    "def getArgsStr(func, *args, **kwargs) -> str:\n",
    "    \"\"\"\n",
    "    Возвращает строку с аргументами функции, с учётом значений по умолчанию.\n",
    "    Значения именованных аргументов идут в порядке, заданном в определении функции.\n",
    "    Значения не заданных в определении именованных аргументов отсортированы по именам.\n",
    "\n",
    "    Args:\n",
    "        func: Функция, в которую передаются параметры\n",
    "\n",
    "    Returns:\n",
    "        Строка значений аргументов, разделённых запятыми\n",
    "    \"\"\"\n",
    "    argsData = inspect.getfullargspec(func)\n",
    "    res = []\n",
    "    \n",
    "    res.append(\", \".join(map(str, args)))\n",
    "    \n",
    "    res.append(\", \".join((\n",
    "        str(kwargs.setdefault(\n",
    "            argsData.args[len(args) + i],\n",
    "            argsData.defaults[len(argsData.defaults) - len(argsData.args) + len(args):][i]\n",
    "        ))\n",
    "        for i in range(len(argsData.args) - len(args))\n",
    "    )))\n",
    "    \n",
    "    res.append(\", \".join((\n",
    "        str(kwargs.setdefault(k, argsData.kwonlydefaults[k]))\n",
    "        for k in argsData.kwonlyargs\n",
    "    )))\n",
    "    \n",
    "    res.append(\", \".join((\n",
    "        str(kwargs[k])\n",
    "        for k in sorted(kwargs.keys())\n",
    "        if k not in argsData.args + argsData.kwonlyargs\n",
    "    )))\n",
    "    \n",
    "    return \", \".join(filter(bool, res))"
   ]
  },
  {
   "cell_type": "code",
   "execution_count": 83,
   "metadata": {},
   "outputs": [],
   "source": [
    "def cacheToJson(func):\n",
    "    @wraps(func)\n",
    "    def wrapper(*args, **kwargs):\n",
    "        fName = func.__name__ + \".json\"\n",
    "        adding = True if os.path.exists(fName) else False\n",
    "        \n",
    "        with open(fName, \"r+\" if adding else \"w\", encoding=\"utf-8\") as jsonFile:\n",
    "            if adding:\n",
    "                hashDict = json.load(jsonFile)\n",
    "            else:\n",
    "                hashDict = {}\n",
    "\n",
    "            argsStr = getArgsStr(func, *args, **kwargs)\n",
    "            if argsStr in hashDict:\n",
    "                return hashDict[argsStr]\n",
    "            else:\n",
    "                res = func(*args, **kwargs)\n",
    "\n",
    "                if adding:\n",
    "                    jsonFile.seek(jsonFile.tell() - 3)\n",
    "                \n",
    "                jsonFile.write(\n",
    "                    (\",\" if adding else \"{\") \\\n",
    "                    + json.dumps({argsStr: res}, ensure_ascii=False, indent=2)[1:]\n",
    "                )\n",
    "\n",
    "        return res\n",
    "    \n",
    "    return wrapper"
   ]
  },
  {
   "cell_type": "code",
   "execution_count": 18,
   "metadata": {},
   "outputs": [],
   "source": [
    "@cacheToJson\n",
    "def task3_func(a, b, c=1, f=1, p=1):\n",
    "    print(\"Выполнение\")\n",
    "    return ((a + b + c) * f) ** p"
   ]
  },
  {
   "cell_type": "code",
   "execution_count": 44,
   "metadata": {},
   "outputs": [
    {
     "data": {
      "text/plain": [
       "729"
      ]
     },
     "execution_count": 44,
     "metadata": {},
     "output_type": "execute_result"
    }
   ],
   "source": [
    "task3_func(5, 3, p=3)"
   ]
  },
  {
   "cell_type": "code",
   "execution_count": 63,
   "metadata": {},
   "outputs": [],
   "source": [
    "@cacheToJson\n",
    "def task3_func1(a, b, f=2, *args, **kwargs):\n",
    "    return (a + b) * f + sum(args + tuple(kwargs.values()))"
   ]
  },
  {
   "cell_type": "code",
   "execution_count": 67,
   "metadata": {},
   "outputs": [
    {
     "data": {
      "text/plain": [
       "18"
      ]
     },
     "execution_count": 67,
     "metadata": {},
     "output_type": "execute_result"
    }
   ],
   "source": [
    "task3_func1(1, 2, 3, y=7, x=2)"
   ]
  },
  {
   "cell_type": "code",
   "execution_count": 46,
   "metadata": {},
   "outputs": [],
   "source": [
    "import functools\n",
    "\n",
    "@functools.cache\n",
    "def task3_func2(a, b, f=2, *args, **kwargs):\n",
    "    print(\"Выполнение\")\n",
    "    return (a + b) * f + sum(args + tuple(kwargs.values()))"
   ]
  },
  {
   "cell_type": "code",
   "execution_count": 49,
   "metadata": {},
   "outputs": [
    {
     "data": {
      "text/plain": [
       "24"
      ]
     },
     "execution_count": 49,
     "metadata": {},
     "output_type": "execute_result"
    }
   ],
   "source": [
    "task3_func2(1, 2, f=7, q=3)"
   ]
  },
  {
   "cell_type": "code",
   "execution_count": 31,
   "metadata": {},
   "outputs": [
    {
     "data": {
      "text/plain": [
       "['x', 'y']"
      ]
     },
     "execution_count": 31,
     "metadata": {},
     "output_type": "execute_result"
    }
   ],
   "source": [
    "a = {'y': 1, 'x': 2}\n",
    "sorted(a.keys())"
   ]
  },
  {
   "cell_type": "markdown",
   "metadata": {},
   "source": [
    "## Задание №4\n",
    "```\n",
    "📌 Создайте декоратор с параметром.\n",
    "📌 Параметр - целое число, количество запусков декорируемой функции.\n",
    "```"
   ]
  },
  {
   "cell_type": "code",
   "execution_count": 92,
   "metadata": {},
   "outputs": [],
   "source": [
    "def repeat(num):\n",
    "    def inner(func):\n",
    "        @wraps(func)\n",
    "        def wrapper(*args, **kwargs):\n",
    "            results = []\n",
    "            for _ in range(num):\n",
    "                results.append(func(*args, **kwargs))\n",
    "            return results\n",
    "        return wrapper\n",
    "    return inner"
   ]
  },
  {
   "cell_type": "code",
   "execution_count": 14,
   "metadata": {},
   "outputs": [
    {
     "name": "stdout",
     "output_type": "stream",
     "text": [
      "Hello world!\n",
      "Hello world!\n",
      "Hello world!\n",
      "Hello world!\n",
      "Hello world!\n"
     ]
    },
    {
     "data": {
      "text/plain": [
       "[None, None, None, None, None]"
      ]
     },
     "execution_count": 14,
     "metadata": {},
     "output_type": "execute_result"
    }
   ],
   "source": [
    "@repeat(5)\n",
    "def task4_func():\n",
    "    print(\"Hello world!\")\n",
    "\n",
    "task4_func()"
   ]
  },
  {
   "cell_type": "markdown",
   "metadata": {},
   "source": [
    "## Задание №5\n",
    "```\n",
    "📌 Объедините функции из прошлых задач.\n",
    "📌 Функцию угадайку задекорируйте:\n",
    "    ○ декораторами для сохранения параметров,\n",
    "    ○ декоратором контроля значений и\n",
    "    ○ декоратором для многократного запуска.\n",
    "📌 Выберите верный порядок декораторов.\n",
    "```"
   ]
  },
  {
   "cell_type": "code",
   "execution_count": 90,
   "metadata": {},
   "outputs": [],
   "source": [
    "@checkParams\n",
    "@cacheToJson\n",
    "@repeat(5)\n",
    "def guessFunc(upperLimit, attLimit):\n",
    "    return task2.guessNum(1, upperLimit, attLimit)"
   ]
  },
  {
   "cell_type": "code",
   "execution_count": 95,
   "metadata": {},
   "outputs": [
    {
     "data": {
      "text/plain": [
       "[True, False, True, True, False]"
      ]
     },
     "execution_count": 95,
     "metadata": {},
     "output_type": "execute_result"
    }
   ],
   "source": [
    "guessFunc(90, 10)"
   ]
  },
  {
   "cell_type": "markdown",
   "metadata": {},
   "source": [
    "## Задание №6\n",
    "```\n",
    "📌 Доработайте прошлую задачу добавив декоратор wraps в каждый из декораторов.\n",
    "```"
   ]
  },
  {
   "cell_type": "code",
   "execution_count": null,
   "metadata": {},
   "outputs": [],
   "source": []
  }
 ],
 "metadata": {
  "kernelspec": {
   "display_name": "Python 3",
   "language": "python",
   "name": "python3"
  },
  "language_info": {
   "codemirror_mode": {
    "name": "ipython",
    "version": 3
   },
   "file_extension": ".py",
   "mimetype": "text/x-python",
   "name": "python",
   "nbconvert_exporter": "python",
   "pygments_lexer": "ipython3",
   "version": "3.11.6"
  }
 },
 "nbformat": 4,
 "nbformat_minor": 2
}
